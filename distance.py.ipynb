{
 "cells": [
  {
   "cell_type": "code",
   "execution_count": 94,
   "id": "bae02e21",
   "metadata": {},
   "outputs": [],
   "source": [
    "import pandas as pd\n",
    "\n",
    "zone_data = pd.read_csv('data/taxi+_zone_lookup.csv')\n",
    "zone_df = pd.DataFrame(zone_data)\n",
    "zone_df = zone_df.dropna()\n",
    "\n",
    "def fetch_zone(location_id):\n",
    "    location_info = zone_df[zone_df[\"LocationID\"] == location_id]\n",
    "    if not location_info.empty:\n",
    "        borough = location_info.iloc[0][\"Borough\"]\n",
    "        zone = location_info.iloc[0][\"Zone\"]\n",
    "        service_zone = location_info.iloc[0][\"service_zone\"]\n",
    "        #return {\"Borough\": borough, \"Zone\": zone, \"Service Zone\": service_zone}\n",
    "        return ', '.join([zone, borough])\n",
    "    else:\n",
    "        return None"
   ]
  },
  {
   "cell_type": "code",
   "execution_count": null,
   "id": "edce00c9",
   "metadata": {},
   "outputs": [
    {
     "name": "stdout",
     "output_type": "stream",
     "text": [
      "(0, 0)\n"
     ]
    },
    {
     "name": "stderr",
     "output_type": "stream",
     "text": [
      "C:\\Users\\hpatel80\\AppData\\Local\\Temp\\ipykernel_6676\\629448612.py:21: DtypeWarning: Columns (3) have mixed types. Specify dtype option on import or set low_memory=False.\n",
      "  taxi_data = pd.read_csv('data/green_tripdata_2023-01.csv')\n"
     ]
    }
   ],
   "source": [
    "from geopy.geocoders import Nominatim\n",
    "from geopy.distance import geodesic\n",
    "count = 0\n",
    "def get_coordinates_by_name(location_name):\n",
    "    geolocator = Nominatim(user_agent=\"my_geocoder\", timeout=10)\n",
    "    location = geolocator.geocode(location_name)\n",
    "    \n",
    "    if location:\n",
    "        latitude = location.latitude\n",
    "        longitude = location.longitude\n",
    "        return latitude, longitude\n",
    "    else:\n",
    "        return 0,0\n",
    "\n",
    "def calculate_distance(lat1, lon1, lat2, lon2):\n",
    "    location1 = (lat1, lon1)\n",
    "    location2 = (lat2, lon2)\n",
    "    distance = geodesic(location1, location2).kilometers\n",
    "    return distance\n",
    "\n",
    "taxi_data = pd.read_csv('data/green_tripdata_2023-01.csv')\n",
    "dist = []\n",
    "diff_dist = []\n",
    "for index, row in taxi_data.iterrows():\n",
    "   zonePU = fetch_zone(row['PULocationID'])\n",
    "   zoneDO = fetch_zone(row['DOLocationID'])\n",
    "   latPU, lonPU = get_coordinates_by_name(zonePU)\n",
    "   latDO, lonDO = get_coordinates_by_name(zoneDO)\n",
    "   if (latPU==0 and lonPU==0) or (latDO==0 and lonDO==0):\n",
    "        count = count + 1\n",
    "   distance = calculate_distance(latPU, lonPU, latDO, lonDO)*0.621371\n",
    "   dist.append(distance)\n",
    "   diff = distance - row['trip_distance']\n",
    "   diff_dist.append(diff)\n",
    "taxi_data['distance']=dist\n",
    "taxi_data['difference_distance']=diff_dist\n",
    "print(taxi_data)\n",
    "print(\"#############\")\n",
    "print(count)"
   ]
  },
  {
   "cell_type": "code",
   "execution_count": null,
   "id": "6866a4d7",
   "metadata": {},
   "outputs": [],
   "source": []
  }
 ],
 "metadata": {
  "kernelspec": {
   "display_name": "Python 3 (ipykernel)",
   "language": "python",
   "name": "python3"
  },
  "language_info": {
   "codemirror_mode": {
    "name": "ipython",
    "version": 3
   },
   "file_extension": ".py",
   "mimetype": "text/x-python",
   "name": "python",
   "nbconvert_exporter": "python",
   "pygments_lexer": "ipython3",
   "version": "3.9.13"
  }
 },
 "nbformat": 4,
 "nbformat_minor": 5
}
